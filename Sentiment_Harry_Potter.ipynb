{
 "cells": [
  {
   "cell_type": "markdown",
   "metadata": {},
   "source": [
    "# Harry Potter Sentiment Analysis"
   ]
  },
  {
   "cell_type": "code",
   "execution_count": 96,
   "metadata": {},
   "outputs": [],
   "source": [
    "import pandas as pd\n",
    "import nltk\n",
    "import matplotlib.pyplot as plt\n",
    "import seaborn as sns\n",
    "from nltk.corpus import stopwords\n",
    "from nltk.sentiment.vader import SentimentIntensityAnalyzer\n",
    "import numpy as np"
   ]
  },
  {
   "cell_type": "code",
   "execution_count": 73,
   "metadata": {},
   "outputs": [],
   "source": [
    "plt.style.use('ggplot')"
   ]
  },
  {
   "cell_type": "code",
   "execution_count": 66,
   "metadata": {},
   "outputs": [
    {
     "name": "stderr",
     "output_type": "stream",
     "text": [
      "[nltk_data] Downloading package vader_lexicon to\n",
      "[nltk_data]     C:\\Users\\Asus\\AppData\\Roaming\\nltk_data...\n",
      "[nltk_data]   Package vader_lexicon is already up-to-date!\n"
     ]
    },
    {
     "data": {
      "text/plain": [
       "True"
      ]
     },
     "execution_count": 66,
     "metadata": {},
     "output_type": "execute_result"
    }
   ],
   "source": [
    "nltk.download('vader_lexicon')"
   ]
  },
  {
   "cell_type": "markdown",
   "metadata": {},
   "source": [
    "## Cargando data"
   ]
  },
  {
   "cell_type": "code",
   "execution_count": 21,
   "metadata": {},
   "outputs": [
    {
     "data": {
      "text/html": [
       "<div>\n",
       "<style scoped>\n",
       "    .dataframe tbody tr th:only-of-type {\n",
       "        vertical-align: middle;\n",
       "    }\n",
       "\n",
       "    .dataframe tbody tr th {\n",
       "        vertical-align: top;\n",
       "    }\n",
       "\n",
       "    .dataframe thead th {\n",
       "        text-align: right;\n",
       "    }\n",
       "</style>\n",
       "<table border=\"1\" class=\"dataframe\">\n",
       "  <thead>\n",
       "    <tr style=\"text-align: right;\">\n",
       "      <th></th>\n",
       "      <th>Amazon_Username</th>\n",
       "      <th>Amazon_Stars</th>\n",
       "      <th>Amazon_Title</th>\n",
       "      <th>Amazon_Date</th>\n",
       "      <th>Amazon_Review</th>\n",
       "    </tr>\n",
       "  </thead>\n",
       "  <tbody>\n",
       "    <tr>\n",
       "      <th>0</th>\n",
       "      <td>Marouane</td>\n",
       "      <td>5</td>\n",
       "      <td>Magnificent book</td>\n",
       "      <td>16 de agosto de 2019</td>\n",
       "      <td>It was about time I started reading the HP boo...</td>\n",
       "    </tr>\n",
       "    <tr>\n",
       "      <th>1</th>\n",
       "      <td>Marouane</td>\n",
       "      <td>5</td>\n",
       "      <td>Magnificent book</td>\n",
       "      <td>16 de agosto de 2019</td>\n",
       "      <td>It was about time I started reading the HP boo...</td>\n",
       "    </tr>\n",
       "    <tr>\n",
       "      <th>2</th>\n",
       "      <td>Amanda Babcock</td>\n",
       "      <td>1</td>\n",
       "      <td>Do not buy it!!!! Zero stars if it was possible.</td>\n",
       "      <td>10 de octubre de 2018</td>\n",
       "      <td>Super mad! This book is not put together corre...</td>\n",
       "    </tr>\n",
       "    <tr>\n",
       "      <th>3</th>\n",
       "      <td>Chris</td>\n",
       "      <td>3</td>\n",
       "      <td>Much worse condition than advertised</td>\n",
       "      <td>18 de junio de 2021</td>\n",
       "      <td>I purchased this as a used product, so let me ...</td>\n",
       "    </tr>\n",
       "    <tr>\n",
       "      <th>4</th>\n",
       "      <td>I</td>\n",
       "      <td>1</td>\n",
       "      <td>Harry Potter and the Socerors Stone</td>\n",
       "      <td>13 de enero de 2020</td>\n",
       "      <td>The book was written on and not suitable as a ...</td>\n",
       "    </tr>\n",
       "  </tbody>\n",
       "</table>\n",
       "</div>"
      ],
      "text/plain": [
       "  Amazon_Username  Amazon_Stars  \\\n",
       "0        Marouane             5   \n",
       "1        Marouane             5   \n",
       "2  Amanda Babcock             1   \n",
       "3           Chris             3   \n",
       "4               I             1   \n",
       "\n",
       "                                       Amazon_Title            Amazon_Date  \\\n",
       "0                                  Magnificent book   16 de agosto de 2019   \n",
       "1                                  Magnificent book   16 de agosto de 2019   \n",
       "2  Do not buy it!!!! Zero stars if it was possible.  10 de octubre de 2018   \n",
       "3              Much worse condition than advertised    18 de junio de 2021   \n",
       "4               Harry Potter and the Socerors Stone    13 de enero de 2020   \n",
       "\n",
       "                                       Amazon_Review  \n",
       "0  It was about time I started reading the HP boo...  \n",
       "1  It was about time I started reading the HP boo...  \n",
       "2  Super mad! This book is not put together corre...  \n",
       "3  I purchased this as a used product, so let me ...  \n",
       "4  The book was written on and not suitable as a ...  "
      ]
     },
     "execution_count": 21,
     "metadata": {},
     "output_type": "execute_result"
    }
   ],
   "source": [
    "df_HP_Amazon = pd.read_excel('Amazon HP.xlsx')\n",
    "df_HP_Amazon.head()"
   ]
  },
  {
   "cell_type": "code",
   "execution_count": 240,
   "metadata": {},
   "outputs": [
    {
     "data": {
      "text/plain": [
       "(30, 5)"
      ]
     },
     "execution_count": 240,
     "metadata": {},
     "output_type": "execute_result"
    }
   ],
   "source": [
    "df_HP_Amazon.shape"
   ]
  },
  {
   "cell_type": "code",
   "execution_count": 138,
   "metadata": {},
   "outputs": [
    {
     "data": {
      "text/html": [
       "<div>\n",
       "<style scoped>\n",
       "    .dataframe tbody tr th:only-of-type {\n",
       "        vertical-align: middle;\n",
       "    }\n",
       "\n",
       "    .dataframe tbody tr th {\n",
       "        vertical-align: top;\n",
       "    }\n",
       "\n",
       "    .dataframe thead th {\n",
       "        text-align: right;\n",
       "    }\n",
       "</style>\n",
       "<table border=\"1\" class=\"dataframe\">\n",
       "  <thead>\n",
       "    <tr style=\"text-align: right;\">\n",
       "      <th></th>\n",
       "      <th>Username</th>\n",
       "      <th>Review</th>\n",
       "      <th>ReviewDate</th>\n",
       "      <th>Score</th>\n",
       "      <th>PublicatedBy</th>\n",
       "      <th>Unnamed: 5</th>\n",
       "    </tr>\n",
       "  </thead>\n",
       "  <tbody>\n",
       "    <tr>\n",
       "      <th>0</th>\n",
       "      <td>David Nusair</td>\n",
       "      <td>...a decent-enough first installment that admi...</td>\n",
       "      <td>Nov 15, 2021</td>\n",
       "      <td>2.5/4</td>\n",
       "      <td>Reel Film Reviews</td>\n",
       "      <td>NaN</td>\n",
       "    </tr>\n",
       "    <tr>\n",
       "      <th>1</th>\n",
       "      <td>Kevin Maher</td>\n",
       "      <td>An exceptional big-screen half-term treat.</td>\n",
       "      <td>Oct 29, 2021</td>\n",
       "      <td>4/5</td>\n",
       "      <td>Times (UK)</td>\n",
       "      <td>NaN</td>\n",
       "    </tr>\n",
       "    <tr>\n",
       "      <th>2</th>\n",
       "      <td>Film Companion Staff</td>\n",
       "      <td>The Harry Potter movies are the rare series to...</td>\n",
       "      <td>Oct 27, 2020</td>\n",
       "      <td>NaN</td>\n",
       "      <td>Film Companion</td>\n",
       "      <td>NaN</td>\n",
       "    </tr>\n",
       "    <tr>\n",
       "      <th>3</th>\n",
       "      <td>Mike Massie</td>\n",
       "      <td>It's always thrilling to see kids taking matte...</td>\n",
       "      <td>Sep 29, 2020</td>\n",
       "      <td>8/10</td>\n",
       "      <td>Gone With The Twins</td>\n",
       "      <td>NaN</td>\n",
       "    </tr>\n",
       "    <tr>\n",
       "      <th>4</th>\n",
       "      <td>Leigh Paatsch</td>\n",
       "      <td>Does a magnificent job in bringing to life the...</td>\n",
       "      <td>Jun 11, 2020</td>\n",
       "      <td>4/5</td>\n",
       "      <td>Herald Sun (Australia)</td>\n",
       "      <td>NaN</td>\n",
       "    </tr>\n",
       "  </tbody>\n",
       "</table>\n",
       "</div>"
      ],
      "text/plain": [
       "               Username                                             Review  \\\n",
       "0          David Nusair  ...a decent-enough first installment that admi...   \n",
       "1           Kevin Maher         An exceptional big-screen half-term treat.   \n",
       "2  Film Companion Staff  The Harry Potter movies are the rare series to...   \n",
       "3           Mike Massie  It's always thrilling to see kids taking matte...   \n",
       "4         Leigh Paatsch  Does a magnificent job in bringing to life the...   \n",
       "\n",
       "     ReviewDate   Score            PublicatedBy Unnamed: 5  \n",
       "0  Nov 15, 2021   2.5/4       Reel Film Reviews        NaN  \n",
       "1  Oct 29, 2021     4/5              Times (UK)        NaN  \n",
       "2  Oct 27, 2020     NaN          Film Companion        NaN  \n",
       "3  Sep 29, 2020    8/10     Gone With The Twins        NaN  \n",
       "4  Jun 11, 2020     4/5  Herald Sun (Australia)        NaN  "
      ]
     },
     "execution_count": 138,
     "metadata": {},
     "output_type": "execute_result"
    }
   ],
   "source": [
    "df_HP_RT= pd.read_excel('RottenTomatoes HP.xlsx')\n",
    "df_HP_RT.head()"
   ]
  },
  {
   "cell_type": "code",
   "execution_count": 241,
   "metadata": {},
   "outputs": [
    {
     "data": {
      "text/plain": [
       "(120, 6)"
      ]
     },
     "execution_count": 241,
     "metadata": {},
     "output_type": "execute_result"
    }
   ],
   "source": [
    "df_HP_RT.shape"
   ]
  },
  {
   "cell_type": "markdown",
   "metadata": {},
   "source": [
    "## SentimentIntensityAnalyzer"
   ]
  },
  {
   "cell_type": "markdown",
   "metadata": {},
   "source": [
    "### Primer review Amazon"
   ]
  },
  {
   "cell_type": "code",
   "execution_count": 77,
   "metadata": {},
   "outputs": [],
   "source": [
    "analyzer = SentimentIntensityAnalyzer()"
   ]
  },
  {
   "cell_type": "code",
   "execution_count": 88,
   "metadata": {},
   "outputs": [
    {
     "name": "stdout",
     "output_type": "stream",
     "text": [
      "{'neg': 0.0, 'neu': 1.0, 'pos': 0.0, 'compound': 0.0}\n"
     ]
    }
   ],
   "source": [
    "score_Amazon = analyzer.polarity_scores(df_HP_Amazon['Amazon_Review'][0])\n",
    "print(score_Amazon)"
   ]
  },
  {
   "cell_type": "code",
   "execution_count": 89,
   "metadata": {},
   "outputs": [
    {
     "data": {
      "text/plain": [
       "([<matplotlib.axis.XTick at 0x1efc183d700>,\n",
       "  <matplotlib.axis.XTick at 0x1efc183d6d0>,\n",
       "  <matplotlib.axis.XTick at 0x1efc1838310>,\n",
       "  <matplotlib.axis.XTick at 0x1efc1874490>],\n",
       " [Text(0, 0, 'neg'),\n",
       "  Text(1, 0, 'neu'),\n",
       "  Text(2, 0, 'pos'),\n",
       "  Text(3, 0, 'compound')])"
      ]
     },
     "execution_count": 89,
     "metadata": {},
     "output_type": "execute_result"
    },
    {
     "data": {
      "image/png": "[encoded data removed]",
      "text/plain": [
       "<Figure size 432x288 with 1 Axes>"
      ]
     },
     "metadata": {},
     "output_type": "display_data"
    }
   ],
   "source": [
    "plt.bar(range(len(score_Amazon)), list(score_Amazon.values()), align='center')\n",
    "plt.xticks(range(len(score_Amazon)), list(score_Amazon.keys()))"
   ]
  },
  {
   "cell_type": "markdown",
   "metadata": {},
   "source": [
    "### Primer review Rotten Tomatoes"
   ]
  },
  {
   "cell_type": "code",
   "execution_count": 86,
   "metadata": {},
   "outputs": [
    {
     "name": "stdout",
     "output_type": "stream",
     "text": [
      "{'neg': 0.0, 'neu': 0.721, 'pos': 0.279, 'compound': 0.7003}\n"
     ]
    }
   ],
   "source": [
    "score_RT = analyzer.polarity_scores(df_HP_RT['Review'][0])\n",
    "print(score_RT)"
   ]
  },
  {
   "cell_type": "code",
   "execution_count": 87,
   "metadata": {},
   "outputs": [
    {
     "data": {
      "text/plain": [
       "([<matplotlib.axis.XTick at 0x1efc17d30a0>,\n",
       "  <matplotlib.axis.XTick at 0x1efc17d30d0>,\n",
       "  <matplotlib.axis.XTick at 0x1efc17b76d0>,\n",
       "  <matplotlib.axis.XTick at 0x1efc180b7c0>],\n",
       " [Text(0, 0, 'neg'),\n",
       "  Text(1, 0, 'neu'),\n",
       "  Text(2, 0, 'pos'),\n",
       "  Text(3, 0, 'compound')])"
      ]
     },
     "execution_count": 87,
     "metadata": {},
     "output_type": "execute_result"
    },
    {
     "data": {
      "image/png": "[encoded data removed]",
      "text/plain": [
       "<Figure size 432x288 with 1 Axes>"
      ]
     },
     "metadata": {},
     "output_type": "display_data"
    }
   ],
   "source": [
    "plt.bar(range(len(score_RT)), list(score_RT.values()), align='center')\n",
    "plt.xticks(range(len(score_RT)), list(score_RT.keys()))"
   ]
  },
  {
   "cell_type": "markdown",
   "metadata": {},
   "source": [
    "## Para todos los Reviews"
   ]
  },
  {
   "cell_type": "markdown",
   "metadata": {},
   "source": [
    "### Amazon"
   ]
  },
  {
   "cell_type": "code",
   "execution_count": 251,
   "metadata": {},
   "outputs": [],
   "source": [
    "result = {'positive': 0, 'negative': 0, 'neutral': 0}"
   ]
  },
  {
   "cell_type": "code",
   "execution_count": 252,
   "metadata": {},
   "outputs": [],
   "source": [
    "sentiment_amaz = pd.DataFrame(columns=['Review','Sentiment'])"
   ]
  },
  {
   "cell_type": "code",
   "execution_count": null,
   "metadata": {},
   "outputs": [],
   "source": [
    "for review in df_HP_Amazon['Amazon_Review']:\n",
    "    score = analyzer.polarity_scores(review)\n",
    "    if score['compound'] > 0.05:\n",
    "        result['positive'] += 1\n",
    "    elif score['compound'] < -0.05:\n",
    "        result['negative'] += 1\n",
    "    else:\n",
    "        result['neutral'] += 1\n",
    "    sentiment_amaz=sentiment_amaz.append({'Review': review, 'Sentiment': score['compound']},ignore_index=True)"
   ]
  },
  {
   "cell_type": "code",
   "execution_count": 254,
   "metadata": {},
   "outputs": [
    {
     "name": "stdout",
     "output_type": "stream",
     "text": [
      "Number of reviews labeled in each sentiment\n",
      "{'positive': 23, 'negative': 4, 'neutral': 3}\n"
     ]
    }
   ],
   "source": [
    "print('Number of reviews labeled in each sentiment')\n",
    "print(result)"
   ]
  },
  {
   "cell_type": "code",
   "execution_count": 255,
   "metadata": {},
   "outputs": [],
   "source": [
    "objects = ('Positivo', 'Negativo', 'Neutral')\n",
    "y_pos = np.arange(len(objects))\n",
    "performance = [result['positive'],result['negative'],result['neutral']]"
   ]
  },
  {
   "cell_type": "code",
   "execution_count": 256,
   "metadata": {},
   "outputs": [],
   "source": [
    "plt.rcParams[\"figure.figsize\"] = (10, 7)"
   ]
  },
  {
   "cell_type": "code",
   "execution_count": 257,
   "metadata": {},
   "outputs": [
    {
     "data": {
      "image/png": "[encoded data removed]",
      "text/plain": [
       "<Figure size 720x504 with 1 Axes>"
      ]
     },
     "metadata": {},
     "output_type": "display_data"
    }
   ],
   "source": [
    "p1 = plt.bar(y_pos, performance, align='center', alpha=1)\n",
    "plt.xticks(y_pos, objects)\n",
    "plt.ylabel('Número de Reseñas',fontsize=15)\n",
    "plt.title('Análisis de Sentimiento de Reseñas de Amazon',fontsize=15)\n",
    "plt.xticks(fontsize=15)\n",
    "plt.yticks(fontsize=15)\n",
    "plt.bar_label(p1, label_type='center', fontsize=18)\n",
    "plt.show()"
   ]
  },
  {
   "cell_type": "code",
   "execution_count": 259,
   "metadata": {},
   "outputs": [
    {
     "data": {
      "text/html": [
       "<div>\n",
       "<style scoped>\n",
       "    .dataframe tbody tr th:only-of-type {\n",
       "        vertical-align: middle;\n",
       "    }\n",
       "\n",
       "    .dataframe tbody tr th {\n",
       "        vertical-align: top;\n",
       "    }\n",
       "\n",
       "    .dataframe thead th {\n",
       "        text-align: right;\n",
       "    }\n",
       "</style>\n",
       "<table border=\"1\" class=\"dataframe\">\n",
       "  <thead>\n",
       "    <tr style=\"text-align: right;\">\n",
       "      <th></th>\n",
       "      <th>Review</th>\n",
       "      <th>Sentiment</th>\n",
       "    </tr>\n",
       "  </thead>\n",
       "  <tbody>\n",
       "    <tr>\n",
       "      <th>0</th>\n",
       "      <td>It was about time I started reading the HP boo...</td>\n",
       "      <td>0.0</td>\n",
       "    </tr>\n",
       "    <tr>\n",
       "      <th>1</th>\n",
       "      <td>It was about time I started reading the HP boo...</td>\n",
       "      <td>0.0</td>\n",
       "    </tr>\n",
       "    <tr>\n",
       "      <th>2</th>\n",
       "      <td>Super mad! This book is not put together corre...</td>\n",
       "      <td>0.4993</td>\n",
       "    </tr>\n",
       "    <tr>\n",
       "      <th>3</th>\n",
       "      <td>I purchased this as a used product, so let me ...</td>\n",
       "      <td>0.3029</td>\n",
       "    </tr>\n",
       "    <tr>\n",
       "      <th>4</th>\n",
       "      <td>The book was written on and not suitable as a ...</td>\n",
       "      <td>-0.3412</td>\n",
       "    </tr>\n",
       "  </tbody>\n",
       "</table>\n",
       "</div>"
      ],
      "text/plain": [
       "                                              Review Sentiment\n",
       "0  It was about time I started reading the HP boo...       0.0\n",
       "1  It was about time I started reading the HP boo...       0.0\n",
       "2  Super mad! This book is not put together corre...    0.4993\n",
       "3  I purchased this as a used product, so let me ...    0.3029\n",
       "4  The book was written on and not suitable as a ...   -0.3412"
      ]
     },
     "execution_count": 259,
     "metadata": {},
     "output_type": "execute_result"
    }
   ],
   "source": [
    "sentiment_amaz.head()"
   ]
  },
  {
   "cell_type": "code",
   "execution_count": 269,
   "metadata": {},
   "outputs": [
    {
     "data": {
      "text/plain": [
       "-0.5719"
      ]
     },
     "execution_count": 269,
     "metadata": {},
     "output_type": "execute_result"
    }
   ],
   "source": [
    "sentiment_amaz['Sentiment'].min()"
   ]
  },
  {
   "cell_type": "code",
   "execution_count": 268,
   "metadata": {},
   "outputs": [
    {
     "data": {
      "text/plain": [
       "0.9795"
      ]
     },
     "execution_count": 268,
     "metadata": {},
     "output_type": "execute_result"
    }
   ],
   "source": [
    "sentiment_amaz['Sentiment'].max()"
   ]
  },
  {
   "cell_type": "code",
   "execution_count": 261,
   "metadata": {},
   "outputs": [
    {
     "data": {
      "text/plain": [
       "0.528"
      ]
     },
     "execution_count": 261,
     "metadata": {},
     "output_type": "execute_result"
    }
   ],
   "source": [
    "sentiment_amaz['Sentiment'].mean().round(3)"
   ]
  },
  {
   "cell_type": "markdown",
   "metadata": {},
   "source": [
    "### Rotten Tomatoes"
   ]
  },
  {
   "cell_type": "code",
   "execution_count": 242,
   "metadata": {},
   "outputs": [],
   "source": [
    "df_HP_RT['Review'] = df_HP_RT['Review'].astype('str')"
   ]
  },
  {
   "cell_type": "code",
   "execution_count": 243,
   "metadata": {},
   "outputs": [],
   "source": [
    "result = {'positive': 0, 'negative': 0, 'neutral': 0}"
   ]
  },
  {
   "cell_type": "code",
   "execution_count": 244,
   "metadata": {},
   "outputs": [],
   "source": [
    "sentiment_rt = pd.DataFrame(columns=['Review','Sentiment'])"
   ]
  },
  {
   "cell_type": "code",
   "execution_count": null,
   "metadata": {},
   "outputs": [],
   "source": [
    "for review in df_HP_RT['Review']:\n",
    "    score = analyzer.polarity_scores(review)\n",
    "    if score['compound'] > 0.05:\n",
    "        result['positive'] += 1\n",
    "    elif score['compound'] < -0.05:\n",
    "        result['negative'] += 1\n",
    "    else:\n",
    "        result['neutral'] += 1\n",
    "    sentiment_rt=sentiment_rt.append({'Review': review, 'Sentiment': score['compound']},ignore_index=True)"
   ]
  },
  {
   "cell_type": "code",
   "execution_count": 246,
   "metadata": {},
   "outputs": [
    {
     "name": "stdout",
     "output_type": "stream",
     "text": [
      "Number of reviews labeled in each sentiment\n",
      "{'positive': 83, 'negative': 18, 'neutral': 19}\n"
     ]
    }
   ],
   "source": [
    "print('Number of reviews labeled in each sentiment')\n",
    "print(result)"
   ]
  },
  {
   "cell_type": "code",
   "execution_count": 247,
   "metadata": {},
   "outputs": [],
   "source": [
    "objects = ('Positivo', 'Negativo', 'Neutral')\n",
    "y_pos = np.arange(len(objects))\n",
    "performance = [result['positive'],result['negative'],result['neutral']]"
   ]
  },
  {
   "cell_type": "code",
   "execution_count": 248,
   "metadata": {},
   "outputs": [],
   "source": [
    "plt.rcParams[\"figure.figsize\"] = (10, 7)"
   ]
  },
  {
   "cell_type": "code",
   "execution_count": 249,
   "metadata": {},
   "outputs": [
    {
     "data": {
      "image/png": "[encoded data removed]",
      "text/plain": [
       "<Figure size 720x504 with 1 Axes>"
      ]
     },
     "metadata": {},
     "output_type": "display_data"
    }
   ],
   "source": [
    "p1 = plt.bar(y_pos, performance, align='center', alpha=1)\n",
    "plt.xticks(y_pos, objects)\n",
    "plt.ylabel('Número de Reseñas',fontsize=15)\n",
    "plt.title('Análisis de Sentimiento de Reseñas de Rotten Tomatoes',fontsize=15)\n",
    "plt.xticks(fontsize=15)\n",
    "plt.yticks(fontsize=15)\n",
    "plt.bar_label(p1, label_type='center', fontsize=18)\n",
    "plt.show()"
   ]
  },
  {
   "cell_type": "code",
   "execution_count": 264,
   "metadata": {},
   "outputs": [
    {
     "data": {
      "text/html": [
       "<div>\n",
       "<style scoped>\n",
       "    .dataframe tbody tr th:only-of-type {\n",
       "        vertical-align: middle;\n",
       "    }\n",
       "\n",
       "    .dataframe tbody tr th {\n",
       "        vertical-align: top;\n",
       "    }\n",
       "\n",
       "    .dataframe thead th {\n",
       "        text-align: right;\n",
       "    }\n",
       "</style>\n",
       "<table border=\"1\" class=\"dataframe\">\n",
       "  <thead>\n",
       "    <tr style=\"text-align: right;\">\n",
       "      <th></th>\n",
       "      <th>Review</th>\n",
       "      <th>Sentiment</th>\n",
       "    </tr>\n",
       "  </thead>\n",
       "  <tbody>\n",
       "    <tr>\n",
       "      <th>0</th>\n",
       "      <td>...a decent-enough first installment that admi...</td>\n",
       "      <td>0.7003</td>\n",
       "    </tr>\n",
       "    <tr>\n",
       "      <th>1</th>\n",
       "      <td>An exceptional big-screen half-term treat.</td>\n",
       "      <td>0.4019</td>\n",
       "    </tr>\n",
       "    <tr>\n",
       "      <th>2</th>\n",
       "      <td>The Harry Potter movies are the rare series to...</td>\n",
       "      <td>0.4404</td>\n",
       "    </tr>\n",
       "    <tr>\n",
       "      <th>3</th>\n",
       "      <td>It's always thrilling to see kids taking matte...</td>\n",
       "      <td>0.2263</td>\n",
       "    </tr>\n",
       "    <tr>\n",
       "      <th>4</th>\n",
       "      <td>Does a magnificent job in bringing to life the...</td>\n",
       "      <td>0.765</td>\n",
       "    </tr>\n",
       "  </tbody>\n",
       "</table>\n",
       "</div>"
      ],
      "text/plain": [
       "                                              Review Sentiment\n",
       "0  ...a decent-enough first installment that admi...    0.7003\n",
       "1         An exceptional big-screen half-term treat.    0.4019\n",
       "2  The Harry Potter movies are the rare series to...    0.4404\n",
       "3  It's always thrilling to see kids taking matte...    0.2263\n",
       "4  Does a magnificent job in bringing to life the...     0.765"
      ]
     },
     "execution_count": 264,
     "metadata": {},
     "output_type": "execute_result"
    }
   ],
   "source": [
    "sentiment_rt.head()"
   ]
  },
  {
   "cell_type": "code",
   "execution_count": 267,
   "metadata": {},
   "outputs": [
    {
     "data": {
      "text/plain": [
       "-0.765"
      ]
     },
     "execution_count": 267,
     "metadata": {},
     "output_type": "execute_result"
    }
   ],
   "source": [
    "sentiment_rt['Sentiment'].min()"
   ]
  },
  {
   "cell_type": "code",
   "execution_count": 266,
   "metadata": {},
   "outputs": [
    {
     "data": {
      "text/plain": [
       "0.9337"
      ]
     },
     "execution_count": 266,
     "metadata": {},
     "output_type": "execute_result"
    }
   ],
   "source": [
    "sentiment_rt['Sentiment'].max()"
   ]
  },
  {
   "cell_type": "code",
   "execution_count": 262,
   "metadata": {},
   "outputs": [
    {
     "data": {
      "text/plain": [
       "0.339"
      ]
     },
     "execution_count": 262,
     "metadata": {},
     "output_type": "execute_result"
    }
   ],
   "source": [
    "sentiment_rt['Sentiment'].mean().round(3)"
   ]
  }
 ],
 "metadata": {
  "interpreter": {
   "hash": "b3ba2566441a7c06988d0923437866b63cedc61552a5af99d1f4fb67d367b25f"
  },
  "kernelspec": {
   "display_name": "Python 3.8.5 ('base')",
   "language": "python",
   "name": "python3"
  },
  "language_info": {
   "codemirror_mode": {
    "name": "ipython",
    "version": 3
   },
   "file_extension": ".py",
   "mimetype": "text/x-python",
   "name": "python",
   "nbconvert_exporter": "python",
   "pygments_lexer": "ipython3",
   "version": "3.8.5"
  },
  "orig_nbformat": 4
 },
 "nbformat": 4,
 "nbformat_minor": 2
}
